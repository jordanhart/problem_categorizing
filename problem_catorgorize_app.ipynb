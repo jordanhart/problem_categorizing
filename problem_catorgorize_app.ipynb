{
 "cells": [
  {
   "cell_type": "code",
   "execution_count": 9,
   "metadata": {
    "collapsed": false
   },
   "outputs": [
    {
     "name": "stderr",
     "output_type": "stream",
     "text": [
      "/home/jordan/anaconda3/lib/python3.4/site-packages/matplotlib/__init__.py:1318: UserWarning:  This call to matplotlib.use() has no effect\n",
      "because the backend has already been chosen;\n",
      "matplotlib.use() must be called *before* pylab, matplotlib.pyplot,\n",
      "or matplotlib.backends is imported for the first time.\n",
      "\n",
      "  warnings.warn(_use_error_msg)\n"
     ]
    }
   ],
   "source": [
    "from datascience import *\n",
    "import matplotlib\n",
    "matplotlib.use('Agg')\n",
    "from datascience import *\n",
    "%matplotlib inline\n",
    "import matplotlib.pyplot as plots\n",
    "import numpy as np\n",
    "import math\n",
    "import nltk\n",
    "\n",
    "#Citing Hongning Wang, Chi Wang, ChengXiang Zhai and Jiawei Han. Learning Online Discussion Structures by Conditional Random Fields. The 34th Annual International ACM SIGIR Conference (SIGIR'2011), P435-444, 2011.\n"
   ]
  },
  {
   "cell_type": "code",
   "execution_count": 10,
   "metadata": {
    "collapsed": false
   },
   "outputs": [],
   "source": [
    "t = Table().with_columns([\n",
    "        'letter', ['a', 'b', 'c', 'z'],\n",
    "        'count',  [  9,   3,   3,   1],\n",
    "        'points', [  1,   2,   2,  10],\n",
    "    ])"
   ]
  },
  {
   "cell_type": "code",
   "execution_count": 11,
   "metadata": {
    "collapsed": false
   },
   "outputs": [
    {
     "data": {
      "text/html": [
       "<table border=\"1\" class=\"dataframe\">\n",
       "    <thead>\n",
       "        <tr>\n",
       "            <th>letter</th> <th>count</th> <th>points</th>\n",
       "        </tr>\n",
       "    </thead>\n",
       "    <tbody>\n",
       "        <tr>\n",
       "            <td>a     </td> <td>9    </td> <td>1     </td>\n",
       "        </tr>\n",
       "    </tbody>\n",
       "        <tr>\n",
       "            <td>b     </td> <td>3    </td> <td>2     </td>\n",
       "        </tr>\n",
       "    </tbody>\n",
       "        <tr>\n",
       "            <td>c     </td> <td>3    </td> <td>2     </td>\n",
       "        </tr>\n",
       "    </tbody>\n",
       "        <tr>\n",
       "            <td>z     </td> <td>1    </td> <td>10    </td>\n",
       "        </tr>\n",
       "    </tbody>\n",
       "</table>"
      ],
      "text/plain": [
       "letter | count | points\n",
       "a      | 9     | 1\n",
       "b      | 3     | 2\n",
       "c      | 3     | 2\n",
       "z      | 1     | 10"
      ]
     },
     "execution_count": 11,
     "metadata": {},
     "output_type": "execute_result"
    }
   ],
   "source": [
    "t"
   ]
  },
  {
   "cell_type": "code",
   "execution_count": 14,
   "metadata": {
    "collapsed": false
   },
   "outputs": [],
   "source": [
    "data = Table.read_table(\"Amazon-downloader-master/reviews.csv\")"
   ]
  },
  {
   "cell_type": "code",
   "execution_count": 15,
   "metadata": {
    "collapsed": false
   },
   "outputs": [
    {
     "data": {
      "text/html": [
       "<table border=\"1\" class=\"dataframe\">\n",
       "    <thead>\n",
       "        <tr>\n",
       "            <th>0</th> <th>20160316</th> <th>Unnamed: 2</th> <th>5</th> <th>0.1</th> <th>0.2</th> <th>on March 16, 2016</th> <th>ANONYMOUS</th> <th>Five Stars</th> <th>The phone is great</th>\n",
       "        </tr>\n",
       "    </thead>\n",
       "    <tbody>\n",
       "        <tr>\n",
       "            <td>1   </td> <td>20160315</td> <td>nan       </td> <td>1   </td> <td>0   </td> <td>0   </td> <td>on March 15, 2016</td> <td>ANONYMOUS</td> <td>Phone came bent, all chipped up all around the ...</td> <td>Phone came bent, all chipped up all around the corners a ...</td>\n",
       "        </tr>\n",
       "    </tbody>\n",
       "        <tr>\n",
       "            <td>2   </td> <td>20160312</td> <td>nan       </td> <td>5   </td> <td>0   </td> <td>0   </td> <td>on March 12, 2016</td> <td>ANONYMOUS</td> <td>If E=mc2, and Excellent=E, then E=iPhone 6        </td> <td>First go on YouTube and watch Steve Jobs at his 2007 iPh ...</td>\n",
       "        </tr>\n",
       "    </tbody>\n",
       "        <tr>\n",
       "            <td>3   </td> <td>20160312</td> <td>nan       </td> <td>5   </td> <td>0   </td> <td>0   </td> <td>on March 12, 2016</td> <td>ANONYMOUS</td> <td>Love my new iphone                                </td> <td>Love my new iphone! expensive to pay for a 1g plan at vi ...</td>\n",
       "        </tr>\n",
       "    </tbody>\n",
       "        <tr>\n",
       "            <td>4   </td> <td>20160310</td> <td>nan       </td> <td>4   </td> <td>0   </td> <td>0   </td> <td>on March 10, 2016</td> <td>ANONYMOUS</td> <td>iPhone 6 is ok                                    </td> <td>The phone is ok apple could've done better with the ear  ...</td>\n",
       "        </tr>\n",
       "    </tbody>\n",
       "        <tr>\n",
       "            <td>5   </td> <td>20160308</td> <td>nan       </td> <td>5   </td> <td>0   </td> <td>0   </td> <td>on March 8, 2016 </td> <td>ANONYMOUS</td> <td>Five Stars                                        </td> <td>love it and it lives up to all the hype!                    </td>\n",
       "        </tr>\n",
       "    </tbody>\n",
       "        <tr>\n",
       "            <td>6   </td> <td>20160307</td> <td>nan       </td> <td>5   </td> <td>2   </td> <td>3   </td> <td>on March 7, 2016 </td> <td>ANONYMOUS</td> <td>Love it!                                          </td> <td>Got my phone 3 days earlier than expected, looks brand n ...</td>\n",
       "        </tr>\n",
       "    </tbody>\n",
       "        <tr>\n",
       "            <td>7   </td> <td>20160307</td> <td>nan       </td> <td>5   </td> <td>2   </td> <td>3   </td> <td>on March 7, 2016 </td> <td>ANONYMOUS</td> <td>Perfect condition                                 </td> <td>Great price and the phone was like brand new!               </td>\n",
       "        </tr>\n",
       "    </tbody>\n",
       "        <tr>\n",
       "            <td>8   </td> <td>20160306</td> <td>nan       </td> <td>5   </td> <td>3   </td> <td>3   </td> <td>on March 6, 2016 </td> <td>ANONYMOUS</td> <td>Five Stars                                        </td> <td>Had no problem activating (verizon), works perfectly, an ...</td>\n",
       "        </tr>\n",
       "    </tbody>\n",
       "        <tr>\n",
       "            <td>9   </td> <td>20160304</td> <td>nan       </td> <td>5   </td> <td>2   </td> <td>3   </td> <td>on March 4, 2016 </td> <td>ANONYMOUS</td> <td>Five Stars                                        </td> <td>very good                                                   </td>\n",
       "        </tr>\n",
       "    </tbody>\n",
       "        <tr>\n",
       "            <td>10  </td> <td>20160321</td> <td>nan       </td> <td>4   </td> <td>0   </td> <td>0   </td> <td>on March 21, 2016</td> <td>ANONYMOUS</td> <td>Four Stars                                        </td> <td>Phone was delivered quickly and was exactly as described    </td>\n",
       "        </tr>\n",
       "    </tbody>\n",
       "</table>\n",
       "<p>... (9 rows omitted)</p"
      ],
      "text/plain": [
       "0    | 20160316 | Unnamed: 2 | 5    | 0.1  | 0.2  | on March 16, 2016 | ANONYMOUS | Five Stars                                         | The phone is great\n",
       "1    | 20160315 | nan        | 1    | 0    | 0    | on March 15, 2016 | ANONYMOUS | Phone came bent, all chipped up all around the ... | Phone came bent, all chipped up all around the corners a ...\n",
       "2    | 20160312 | nan        | 5    | 0    | 0    | on March 12, 2016 | ANONYMOUS | If E=mc2, and Excellent=E, then E=iPhone 6         | First go on YouTube and watch Steve Jobs at his 2007 iPh ...\n",
       "3    | 20160312 | nan        | 5    | 0    | 0    | on March 12, 2016 | ANONYMOUS | Love my new iphone                                 | Love my new iphone! expensive to pay for a 1g plan at vi ...\n",
       "4    | 20160310 | nan        | 4    | 0    | 0    | on March 10, 2016 | ANONYMOUS | iPhone 6 is ok                                     | The phone is ok apple could've done better with the ear  ...\n",
       "5    | 20160308 | nan        | 5    | 0    | 0    | on March 8, 2016  | ANONYMOUS | Five Stars                                         | love it and it lives up to all the hype!\n",
       "6    | 20160307 | nan        | 5    | 2    | 3    | on March 7, 2016  | ANONYMOUS | Love it!                                           | Got my phone 3 days earlier than expected, looks brand n ...\n",
       "7    | 20160307 | nan        | 5    | 2    | 3    | on March 7, 2016  | ANONYMOUS | Perfect condition                                  | Great price and the phone was like brand new!\n",
       "8    | 20160306 | nan        | 5    | 3    | 3    | on March 6, 2016  | ANONYMOUS | Five Stars                                         | Had no problem activating (verizon), works perfectly, an ...\n",
       "9    | 20160304 | nan        | 5    | 2    | 3    | on March 4, 2016  | ANONYMOUS | Five Stars                                         | very good\n",
       "10   | 20160321 | nan        | 4    | 0    | 0    | on March 21, 2016 | ANONYMOUS | Four Stars                                         | Phone was delivered quickly and was exactly as described\n",
       "... (9 rows omitted)"
      ]
     },
     "execution_count": 15,
     "metadata": {},
     "output_type": "execute_result"
    }
   ],
   "source": [
    "data"
   ]
  },
  {
   "cell_type": "code",
   "execution_count": null,
   "metadata": {
    "collapsed": true
   },
   "outputs": [],
   "source": []
  }
 ],
 "metadata": {
  "kernelspec": {
   "display_name": "Python 3",
   "language": "python",
   "name": "python3"
  },
  "language_info": {
   "codemirror_mode": {
    "name": "ipython",
    "version": 3
   },
   "file_extension": ".py",
   "mimetype": "text/x-python",
   "name": "python",
   "nbconvert_exporter": "python",
   "pygments_lexer": "ipython3",
   "version": "3.4.4"
  }
 },
 "nbformat": 4,
 "nbformat_minor": 0
}
